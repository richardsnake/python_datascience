{
 "cells": [
  {
   "cell_type": "code",
   "execution_count": 9,
   "id": "f6bf7196",
   "metadata": {},
   "outputs": [
    {
     "ename": "SyntaxError",
     "evalue": "invalid syntax (3914309957.py, line 1)",
     "output_type": "error",
     "traceback": [
      "\u001b[0;36m  Cell \u001b[0;32mIn[9], line 1\u001b[0;36m\u001b[0m\n\u001b[0;31m    pip3 install python-vlc\u001b[0m\n\u001b[0m         ^\u001b[0m\n\u001b[0;31mSyntaxError\u001b[0m\u001b[0;31m:\u001b[0m invalid syntax\n"
     ]
    }
   ],
   "source": [
    "pip install python-vlc"
   ]
  },
  {
   "cell_type": "code",
   "execution_count": 8,
   "id": "7fa2e0e0",
   "metadata": {},
   "outputs": [
    {
     "ename": "OSError",
     "evalue": "dlopen(libvlccore.dylib, 0x0006): tried: 'libvlccore.dylib' (no such file), '/System/Volumes/Preboot/Cryptexes/OSlibvlccore.dylib' (no such file), '/Users/richardabanto/anaconda3/lib/python3.11/lib-dynload/../../libvlccore.dylib' (no such file), '/Users/richardabanto/anaconda3/bin/../lib/libvlccore.dylib' (no such file), '/usr/lib/libvlccore.dylib' (no such file, not in dyld cache), 'libvlccore.dylib' (no such file), '/usr/local/lib/libvlccore.dylib' (no such file), '/usr/lib/libvlccore.dylib' (no such file, not in dyld cache)",
     "output_type": "error",
     "traceback": [
      "\u001b[0;31m---------------------------------------------------------------------------\u001b[0m",
      "\u001b[0;31mOSError\u001b[0m                                   Traceback (most recent call last)",
      "Cell \u001b[0;32mIn[8], line 3\u001b[0m\n\u001b[1;32m      1\u001b[0m \u001b[38;5;66;03m#Importando Bibliotecas\u001b[39;00m\n\u001b[1;32m      2\u001b[0m \u001b[38;5;28;01mimport\u001b[39;00m \u001b[38;5;21;01mcv2\u001b[39;00m\n\u001b[0;32m----> 3\u001b[0m \u001b[38;5;28;01mimport\u001b[39;00m \u001b[38;5;21;01mvlc\u001b[39;00m\n\u001b[1;32m      4\u001b[0m \u001b[38;5;28;01mimport\u001b[39;00m \u001b[38;5;21;01mnumpy\u001b[39;00m \u001b[38;5;28;01mas\u001b[39;00m \u001b[38;5;21;01mnp\u001b[39;00m\n\u001b[1;32m      5\u001b[0m \u001b[38;5;28;01mfrom\u001b[39;00m \u001b[38;5;21;01mkeras\u001b[39;00m\u001b[38;5;21;01m.\u001b[39;00m\u001b[38;5;21;01mmodels\u001b[39;00m \u001b[38;5;28;01mimport\u001b[39;00m load_model\n",
      "File \u001b[0;32m~/anaconda3/lib/python3.11/site-packages/vlc.py:220\u001b[0m\n\u001b[1;32m    217\u001b[0m     \u001b[38;5;28;01mreturn\u001b[39;00m (dll, plugin_path)\n\u001b[1;32m    219\u001b[0m \u001b[38;5;66;03m# plugin_path used on win32 and MacOS in override.py\u001b[39;00m\n\u001b[0;32m--> 220\u001b[0m dll, plugin_path  \u001b[38;5;241m=\u001b[39m find_lib()\n\u001b[1;32m    222\u001b[0m \u001b[38;5;28;01mclass\u001b[39;00m \u001b[38;5;21;01mVLCException\u001b[39;00m(\u001b[38;5;167;01mException\u001b[39;00m):\n\u001b[1;32m    223\u001b[0m \u001b[38;5;250m    \u001b[39m\u001b[38;5;124;03m\"\"\"Exception raised by libvlc methods.\u001b[39;00m\n\u001b[1;32m    224\u001b[0m \u001b[38;5;124;03m    \"\"\"\u001b[39;00m\n",
      "File \u001b[0;32m~/anaconda3/lib/python3.11/site-packages/vlc.py:201\u001b[0m, in \u001b[0;36mfind_lib\u001b[0;34m()\u001b[0m\n\u001b[1;32m    198\u001b[0m                 \u001b[38;5;28;01mbreak\u001b[39;00m\n\u001b[1;32m    199\u001b[0m     \u001b[38;5;28;01melse\u001b[39;00m:  \u001b[38;5;66;03m# hope, some [DY]LD_LIBRARY_PATH is set...\u001b[39;00m\n\u001b[1;32m    200\u001b[0m         \u001b[38;5;66;03m# pre-load libvlccore VLC 2.2.8+\u001b[39;00m\n\u001b[0;32m--> 201\u001b[0m         ctypes\u001b[38;5;241m.\u001b[39mCDLL(\u001b[38;5;124m'\u001b[39m\u001b[38;5;124mlibvlccore.dylib\u001b[39m\u001b[38;5;124m'\u001b[39m)\n\u001b[1;32m    202\u001b[0m         dll \u001b[38;5;241m=\u001b[39m ctypes\u001b[38;5;241m.\u001b[39mCDLL(\u001b[38;5;124m'\u001b[39m\u001b[38;5;124mlibvlc.dylib\u001b[39m\u001b[38;5;124m'\u001b[39m)\n\u001b[1;32m    204\u001b[0m \u001b[38;5;28;01melse\u001b[39;00m:\n\u001b[1;32m    205\u001b[0m     \u001b[38;5;66;03m# All other OSes (linux, freebsd...)\u001b[39;00m\n",
      "File \u001b[0;32m~/anaconda3/lib/python3.11/ctypes/__init__.py:376\u001b[0m, in \u001b[0;36mCDLL.__init__\u001b[0;34m(self, name, mode, handle, use_errno, use_last_error, winmode)\u001b[0m\n\u001b[1;32m    373\u001b[0m \u001b[38;5;28mself\u001b[39m\u001b[38;5;241m.\u001b[39m_FuncPtr \u001b[38;5;241m=\u001b[39m _FuncPtr\n\u001b[1;32m    375\u001b[0m \u001b[38;5;28;01mif\u001b[39;00m handle \u001b[38;5;129;01mis\u001b[39;00m \u001b[38;5;28;01mNone\u001b[39;00m:\n\u001b[0;32m--> 376\u001b[0m     \u001b[38;5;28mself\u001b[39m\u001b[38;5;241m.\u001b[39m_handle \u001b[38;5;241m=\u001b[39m _dlopen(\u001b[38;5;28mself\u001b[39m\u001b[38;5;241m.\u001b[39m_name, mode)\n\u001b[1;32m    377\u001b[0m \u001b[38;5;28;01melse\u001b[39;00m:\n\u001b[1;32m    378\u001b[0m     \u001b[38;5;28mself\u001b[39m\u001b[38;5;241m.\u001b[39m_handle \u001b[38;5;241m=\u001b[39m handle\n",
      "\u001b[0;31mOSError\u001b[0m: dlopen(libvlccore.dylib, 0x0006): tried: 'libvlccore.dylib' (no such file), '/System/Volumes/Preboot/Cryptexes/OSlibvlccore.dylib' (no such file), '/Users/richardabanto/anaconda3/lib/python3.11/lib-dynload/../../libvlccore.dylib' (no such file), '/Users/richardabanto/anaconda3/bin/../lib/libvlccore.dylib' (no such file), '/usr/lib/libvlccore.dylib' (no such file, not in dyld cache), 'libvlccore.dylib' (no such file), '/usr/local/lib/libvlccore.dylib' (no such file), '/usr/lib/libvlccore.dylib' (no such file, not in dyld cache)"
     ]
    }
   ],
   "source": [
    "#Importando Bibliotecas\n",
    "import cv2\n",
    "import vlc\n",
    "import numpy as np\n",
    "from keras.models import load_model\n",
    "\n",
    "#Inicializando Variables\n",
    "video_capture = cv2.VideoCapture(0)\n",
    "eyeLeft = cv2.CascadeClassifier('/Users/alejandro/miniforge3/pkgs/libopencv-4.5.5-py39h86e1ac9_9/share/opencv4/haarcascades/haarcascade_lefteye_2splits.xml')\n",
    "eyeRight = cv2.CascadeClassifier('/Users/alejandro/miniforge3/pkgs/libopencv-4.5.5-py39h86e1ac9_9/share/opencv4/haarcascades/haarcascade_righteye_2splits.xml')\n",
    "data = np.ndarray(shape=(1, 224, 224, 3), dtype=np.float32)\n",
    "model = load_model('keras_model.h5')\n",
    "p = vlc.MediaPlayer(\"wakeup.mp3\")\n",
    "left_x, left_y, left_w, left_h = 0,0,0,0\n",
    "right_x, right_y, right_w, right_h = 0,0,0,0\n",
    "contador = 0\n",
    "\n",
    "#Ejecutando Video\n",
    "while True:\n",
    "    ret, frame = video_capture.read()\n",
    "    height,width = frame.shape[:2]\n",
    "    gray = cv2.cvtColor(frame, cv2.COLOR_BGR2GRAY)\n",
    "    \n",
    "    #Mostrando Contador\n",
    "    cv2.rectangle(frame, (0, 0), (width, int(height*0.1)), (0,0,0), -1)\n",
    "    cv2.putText(frame,'Contador: '+str(contador),(int(width*0.65), int(height*0.08)), cv2.FONT_HERSHEY_SIMPLEX, 2, (255,255,255), 2)\n",
    "    \n",
    "    #Identificando el Ojo Derecho\n",
    "    ojo_der = eyeRight.detectMultiScale(\n",
    "        gray,\n",
    "        scaleFactor=1.15,\n",
    "        minNeighbors=3,\n",
    "        minSize=(30, 30)\n",
    "    )\n",
    "    for (x, y, w, h) in ojo_der:\n",
    "        #cv2.rectangle(frame, (x, y), (x+w, y+h), (0, 255, 0), 2)\n",
    "        right_x, right_y, right_w, right_h = x, y, w, h\n",
    "        break\n",
    "    \n",
    "    #Identificando el Ojo Izquierdo\n",
    "    ojo_izq = eyeLeft.detectMultiScale(\n",
    "        gray,\n",
    "        scaleFactor=1.15,\n",
    "        minNeighbors=3,\n",
    "        minSize=(30, 30)\n",
    "    )\n",
    "    for (x, y, w, h) in ojo_izq:\n",
    "        #cv2.rectangle(frame, (x, y), (x+w, y+h), (0, 255, 0), 2)\n",
    "        left_x, left_y, left_w, left_h = x, y, w, h\n",
    "        break\n",
    "    \n",
    "    #Identificando Coordenadas x,y iniciales y finales para extraer la foto de los ojos\n",
    "    if (left_x > right_x):\n",
    "        start_x, end_x = right_x, (left_x+left_w)\n",
    "    else: \n",
    "        start_x, end_x = left_x, (right_x+right_w)\n",
    "\n",
    "    if (left_y > right_y):\n",
    "        start_y, end_y = right_y, (left_y+left_h)\n",
    "    else:\n",
    "        start_y, end_y = left_y, (right_y+right_h)\n",
    "    \n",
    "    \n",
    "    #Algoritmo de deteccion de sueño\n",
    "    if ((end_x-start_x)>120 and (end_y-start_y)<200):\n",
    "        start_x, start_y, end_x, end_y = start_x-30, start_y-50, end_x+30, end_y+50\n",
    "        cv2.rectangle(frame, (start_x, start_y), (end_x, end_y), (0, 255, 0), 2)\n",
    "        img = frame[start_y:end_y, start_x:end_x]\n",
    "        imagen = cv2.resize(img, (224, 224))\n",
    "        imagen_normalizada = (imagen.astype(np.float32) / 127.0) - 1\n",
    "        data[0] = imagen_normalizada\n",
    "        prediction = model.predict(data)\n",
    "        \n",
    "        if (list(prediction)[0][1]>=0.95):\n",
    "            cv2.putText(frame,'Durmiendo : '+str(round(list(prediction)[0][1],3)),(10, int(height*0.08)), cv2.FONT_HERSHEY_SIMPLEX, 2, (255,255,255), 2)\n",
    "            contador+=1\n",
    "        \n",
    "        if (list(prediction)[0][0]>=0.95):\n",
    "            cv2.putText(frame,'Despierto',(10, int(height*0.08)), cv2.FONT_HERSHEY_SIMPLEX, 2, (255,255,255), 2)\n",
    "            contador-=1\n",
    "            \n",
    "        if contador>=15:\n",
    "            contador=15\n",
    "            p.play()\n",
    "        elif (contador>0 and contador<15):\n",
    "            p.stop()\n",
    "        elif contador<0:\n",
    "            contador=0\n",
    "            \n",
    "    #Mostrar el video de la webcam\n",
    "    cv2.imshow('video', frame)\n",
    "\n",
    "    #Tecla de salida - acaba la transmisión\n",
    "    if cv2.waitKey(1) & 0xFF == ord('q'):\n",
    "        video_capture.release()\n",
    "        cv2.destroyAllWindows()\n",
    "        break"
   ]
  },
  {
   "cell_type": "code",
   "execution_count": null,
   "id": "70aad349",
   "metadata": {},
   "outputs": [],
   "source": []
  }
 ],
 "metadata": {
  "kernelspec": {
   "display_name": "Python 3 (ipykernel)",
   "language": "python",
   "name": "python3"
  },
  "language_info": {
   "codemirror_mode": {
    "name": "ipython",
    "version": 3
   },
   "file_extension": ".py",
   "mimetype": "text/x-python",
   "name": "python",
   "nbconvert_exporter": "python",
   "pygments_lexer": "ipython3",
   "version": "3.11.5"
  }
 },
 "nbformat": 4,
 "nbformat_minor": 5
}
