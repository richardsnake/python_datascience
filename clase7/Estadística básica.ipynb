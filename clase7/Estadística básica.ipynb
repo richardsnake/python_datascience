{
 "cells": [
  {
   "cell_type": "markdown",
   "id": "1f17a2c9",
   "metadata": {},
   "source": [
    "# Estadística básica"
   ]
  },
  {
   "cell_type": "markdown",
   "id": "d6744a2b",
   "metadata": {},
   "source": [
    "## Introducción"
   ]
  },
  {
   "cell_type": "markdown",
   "id": "e5076d3f",
   "metadata": {},
   "source": [
    "<p>La estadística es una <strong>rama de las matemáticas</strong> que te permite <strong>recopilar, organizar y analizar datos</strong> según la necesidad que tengas.</p>\n",
    "<p>Es el arte de <strong>dar sentido a los datos</strong>, proporcionando la teoría y los métodos para extraer información de estos y poder resolver problemas del mundo real.</p>\n",
    "<p>Hay dos tipos de estadísticas: </p>\n",
    "\n",
    "- Estadística Descriptiva\n",
    "- Estadística Inferencial"
   ]
  },
  {
   "cell_type": "markdown",
   "id": "5e465141",
   "metadata": {},
   "source": [
    "## Estadística Descriptiva"
   ]
  },
  {
   "cell_type": "markdown",
   "id": "25b67899",
   "metadata": {},
   "source": [
    "El término estadística descriptiva se refiere al **análisis, el resumen y la presentación** de los resultados relacionados con un conjunto de datos derivados de una muestra o de toda la población.\n",
    "\n",
    "La estadística descriptiva comprende tres categorías principales: distribución de frecuencias, medidas de tendencia central y medidas de variabilidad.\n"
   ]
  },
  {
   "cell_type": "markdown",
   "id": "de30c96a",
   "metadata": {},
   "source": [
    "### Distribución de frecuencias"
   ]
  },
  {
   "cell_type": "markdown",
   "id": "0e75f546",
   "metadata": {},
   "source": [
    "Representa la frecuencia o el recuento de los diferentes valores en un conjunto de datos o muestras"
   ]
  },
  {
   "cell_type": "code",
   "execution_count": 19,
   "id": "e303b12e",
   "metadata": {},
   "outputs": [
    {
     "data": {
      "text/html": [
       "<div>\n",
       "<style scoped>\n",
       "    .dataframe tbody tr th:only-of-type {\n",
       "        vertical-align: middle;\n",
       "    }\n",
       "\n",
       "    .dataframe tbody tr th {\n",
       "        vertical-align: top;\n",
       "    }\n",
       "\n",
       "    .dataframe thead th {\n",
       "        text-align: right;\n",
       "    }\n",
       "</style>\n",
       "<table border=\"1\" class=\"dataframe\">\n",
       "  <thead>\n",
       "    <tr style=\"text-align: right;\">\n",
       "      <th></th>\n",
       "      <th>ALUMNO</th>\n",
       "      <th>NOTA</th>\n",
       "    </tr>\n",
       "  </thead>\n",
       "  <tbody>\n",
       "    <tr>\n",
       "      <th>0</th>\n",
       "      <td>A0001</td>\n",
       "      <td>15</td>\n",
       "    </tr>\n",
       "    <tr>\n",
       "      <th>1</th>\n",
       "      <td>A0002</td>\n",
       "      <td>16</td>\n",
       "    </tr>\n",
       "    <tr>\n",
       "      <th>2</th>\n",
       "      <td>A0003</td>\n",
       "      <td>14</td>\n",
       "    </tr>\n",
       "    <tr>\n",
       "      <th>3</th>\n",
       "      <td>A0004</td>\n",
       "      <td>20</td>\n",
       "    </tr>\n",
       "    <tr>\n",
       "      <th>4</th>\n",
       "      <td>A0005</td>\n",
       "      <td>18</td>\n",
       "    </tr>\n",
       "    <tr>\n",
       "      <th>5</th>\n",
       "      <td>A0006</td>\n",
       "      <td>17</td>\n",
       "    </tr>\n",
       "    <tr>\n",
       "      <th>6</th>\n",
       "      <td>A0007</td>\n",
       "      <td>19</td>\n",
       "    </tr>\n",
       "    <tr>\n",
       "      <th>7</th>\n",
       "      <td>A0008</td>\n",
       "      <td>16</td>\n",
       "    </tr>\n",
       "    <tr>\n",
       "      <th>8</th>\n",
       "      <td>A0009</td>\n",
       "      <td>16</td>\n",
       "    </tr>\n",
       "    <tr>\n",
       "      <th>9</th>\n",
       "      <td>A0010</td>\n",
       "      <td>17</td>\n",
       "    </tr>\n",
       "    <tr>\n",
       "      <th>10</th>\n",
       "      <td>A0011</td>\n",
       "      <td>13</td>\n",
       "    </tr>\n",
       "    <tr>\n",
       "      <th>11</th>\n",
       "      <td>A0012</td>\n",
       "      <td>11</td>\n",
       "    </tr>\n",
       "    <tr>\n",
       "      <th>12</th>\n",
       "      <td>A0013</td>\n",
       "      <td>15</td>\n",
       "    </tr>\n",
       "    <tr>\n",
       "      <th>13</th>\n",
       "      <td>A0014</td>\n",
       "      <td>20</td>\n",
       "    </tr>\n",
       "    <tr>\n",
       "      <th>14</th>\n",
       "      <td>A0015</td>\n",
       "      <td>19</td>\n",
       "    </tr>\n",
       "    <tr>\n",
       "      <th>15</th>\n",
       "      <td>A0016</td>\n",
       "      <td>16</td>\n",
       "    </tr>\n",
       "    <tr>\n",
       "      <th>16</th>\n",
       "      <td>A0017</td>\n",
       "      <td>19</td>\n",
       "    </tr>\n",
       "    <tr>\n",
       "      <th>17</th>\n",
       "      <td>A0018</td>\n",
       "      <td>16</td>\n",
       "    </tr>\n",
       "    <tr>\n",
       "      <th>18</th>\n",
       "      <td>A0019</td>\n",
       "      <td>18</td>\n",
       "    </tr>\n",
       "    <tr>\n",
       "      <th>19</th>\n",
       "      <td>A0020</td>\n",
       "      <td>17</td>\n",
       "    </tr>\n",
       "  </tbody>\n",
       "</table>\n",
       "</div>"
      ],
      "text/plain": [
       "   ALUMNO  NOTA\n",
       "0   A0001    15\n",
       "1   A0002    16\n",
       "2   A0003    14\n",
       "3   A0004    20\n",
       "4   A0005    18\n",
       "5   A0006    17\n",
       "6   A0007    19\n",
       "7   A0008    16\n",
       "8   A0009    16\n",
       "9   A0010    17\n",
       "10  A0011    13\n",
       "11  A0012    11\n",
       "12  A0013    15\n",
       "13  A0014    20\n",
       "14  A0015    19\n",
       "15  A0016    16\n",
       "16  A0017    19\n",
       "17  A0018    16\n",
       "18  A0019    18\n",
       "19  A0020    17"
      ]
     },
     "execution_count": 19,
     "metadata": {},
     "output_type": "execute_result"
    }
   ],
   "source": [
    "import pandas as pd\n",
    "notas_mate = pd.read_csv('MATEMATICAS.csv')\n",
    "notas_mate.head(20)"
   ]
  },
  {
   "cell_type": "code",
   "execution_count": 2,
   "id": "e02f7aa7",
   "metadata": {},
   "outputs": [
    {
     "data": {
      "text/plain": [
       "NOTA\n",
       "16    5\n",
       "17    3\n",
       "19    3\n",
       "15    2\n",
       "20    2\n",
       "18    2\n",
       "14    1\n",
       "13    1\n",
       "11    1\n",
       "Name: count, dtype: int64"
      ]
     },
     "execution_count": 2,
     "metadata": {},
     "output_type": "execute_result"
    }
   ],
   "source": [
    "notas_mate['NOTA'].value_counts()"
   ]
  },
  {
   "cell_type": "code",
   "execution_count": 3,
   "id": "6471666b",
   "metadata": {},
   "outputs": [
    {
     "data": {
      "image/png": "[encoded data removed]",
      "text/plain": [
       "<Figure size 640x480 with 1 Axes>"
      ]
     },
     "metadata": {},
     "output_type": "display_data"
    }
   ],
   "source": [
    "import matplotlib.pyplot as plt\n",
    "notas = notas_mate['NOTA'].tolist()\n",
    "plt.hist(notas, edgecolor='black')\n",
    "plt.xlabel(\"Notas\")\n",
    "plt.ylabel(\"Frecuencia\")\n",
    "plt.title(\"Análisis de frecuencia o dispersión\")\n",
    "plt.show()\n"
   ]
  },
  {
   "cell_type": "markdown",
   "id": "b14e94ee",
   "metadata": {},
   "source": [
    " ### Medidas de tendencia central"
   ]
  },
  {
   "cell_type": "markdown",
   "id": "8bdfb540",
   "metadata": {},
   "source": [
    "Son medidas estadísticas que pretenden resumir en un solo valor a un conjunto de valores. Representan un centro en torno al cual se encuentra ubicado el conjunto de los datos (localización central)."
   ]
  },
  {
   "cell_type": "markdown",
   "id": "76ab7fd7",
   "metadata": {},
   "source": [
    "### La media o promedio"
   ]
  },
  {
   "cell_type": "markdown",
   "id": "2c5f76b6",
   "metadata": {},
   "source": [
    "La media aritmética es un concepto matemático usado en estadística. También llamada promedio o simplemente media, se obtiene con la suma de un conjunto de valores dividida entre el número total de sumandos\n",
    "\n",
    "![promedio](imgs/formuls-promedio-2.png)  "
   ]
  },
  {
   "cell_type": "code",
   "execution_count": 4,
   "id": "64d9edac",
   "metadata": {},
   "outputs": [
    {
     "data": {
      "text/plain": [
       "16.6"
      ]
     },
     "execution_count": 4,
     "metadata": {},
     "output_type": "execute_result"
    }
   ],
   "source": [
    "media = sum(notas)/len(notas)\n",
    "media"
   ]
  },
  {
   "cell_type": "code",
   "execution_count": 5,
   "id": "404eb591",
   "metadata": {},
   "outputs": [
    {
     "data": {
      "text/plain": [
       "16.6"
      ]
     },
     "execution_count": 5,
     "metadata": {},
     "output_type": "execute_result"
    }
   ],
   "source": [
    "notas_mate['NOTA'].mean()"
   ]
  },
  {
   "cell_type": "markdown",
   "id": "a12a8f71",
   "metadata": {},
   "source": [
    "### La mediana"
   ]
  },
  {
   "cell_type": "markdown",
   "id": "6fefc798",
   "metadata": {},
   "source": [
    "Es el número intermedio de un grupo de números; es decir, la mitad de los números son superiores a la mediana y la mitad de los números tienen valores menores que la mediana."
   ]
  },
  {
   "cell_type": "code",
   "execution_count": 6,
   "id": "d43c8146",
   "metadata": {},
   "outputs": [
    {
     "data": {
      "text/plain": [
       "16.5"
      ]
     },
     "execution_count": 6,
     "metadata": {},
     "output_type": "execute_result"
    }
   ],
   "source": [
    "notas.sort()\n",
    "notas\n",
    "mediana = (notas[9]+notas[10])/2\n",
    "mediana"
   ]
  },
  {
   "cell_type": "code",
   "execution_count": 7,
   "id": "66c1e855",
   "metadata": {},
   "outputs": [
    {
     "data": {
      "text/plain": [
       "16.5"
      ]
     },
     "execution_count": 7,
     "metadata": {},
     "output_type": "execute_result"
    }
   ],
   "source": [
    "notas_mate['NOTA'].median()"
   ]
  },
  {
   "cell_type": "markdown",
   "id": "b707ac71",
   "metadata": {},
   "source": [
    "### La moda"
   ]
  },
  {
   "cell_type": "markdown",
   "id": "6d66bea8",
   "metadata": {},
   "source": [
    "la moda es el valor que aparece con mayor frecuencia en un conjunto de datos."
   ]
  },
  {
   "cell_type": "code",
   "execution_count": 8,
   "id": "5ce579af",
   "metadata": {},
   "outputs": [
    {
     "data": {
      "text/plain": [
       "NOTA\n",
       "16    5\n",
       "17    3\n",
       "19    3\n",
       "15    2\n",
       "20    2\n",
       "18    2\n",
       "14    1\n",
       "13    1\n",
       "11    1\n",
       "Name: count, dtype: int64"
      ]
     },
     "execution_count": 8,
     "metadata": {},
     "output_type": "execute_result"
    }
   ],
   "source": [
    "notas_mate['NOTA'].value_counts()"
   ]
  },
  {
   "cell_type": "code",
   "execution_count": 9,
   "id": "46f68370",
   "metadata": {},
   "outputs": [
    {
     "data": {
      "text/plain": [
       "0    16\n",
       "Name: NOTA, dtype: int64"
      ]
     },
     "execution_count": 9,
     "metadata": {},
     "output_type": "execute_result"
    }
   ],
   "source": [
    "notas_mate['NOTA'].mode()\n"
   ]
  },
  {
   "cell_type": "markdown",
   "id": "b484db74",
   "metadata": {},
   "source": [
    "### Medidas de variabilidad"
   ]
  },
  {
   "cell_type": "markdown",
   "id": "4276f752",
   "metadata": {},
   "source": [
    "También llamadas variabilidad, dispersión o propagación, es el grado en que una distribución se estira o se comprime. Ejemplos comunes de medidas de dispersión estadística son el rango, la desviación estándar, la varianza y el rango intercuartil."
   ]
  },
  {
   "cell_type": "markdown",
   "id": "70a5382c",
   "metadata": {},
   "source": [
    "### El Rango\n",
    "El rango es la diferencia entre el valor mayor y el valor menor. El rango medio es el promedio del valor mayor y el valor menor."
   ]
  },
  {
   "cell_type": "code",
   "execution_count": 10,
   "id": "7bbdc9b0",
   "metadata": {},
   "outputs": [
    {
     "data": {
      "text/plain": [
       "[11,\n",
       " 13,\n",
       " 14,\n",
       " 15,\n",
       " 15,\n",
       " 16,\n",
       " 16,\n",
       " 16,\n",
       " 16,\n",
       " 16,\n",
       " 17,\n",
       " 17,\n",
       " 17,\n",
       " 18,\n",
       " 18,\n",
       " 19,\n",
       " 19,\n",
       " 19,\n",
       " 20,\n",
       " 20]"
      ]
     },
     "execution_count": 10,
     "metadata": {},
     "output_type": "execute_result"
    }
   ],
   "source": [
    "notas"
   ]
  },
  {
   "cell_type": "code",
   "execution_count": 11,
   "id": "65e3d409",
   "metadata": {},
   "outputs": [
    {
     "data": {
      "text/plain": [
       "9"
      ]
     },
     "execution_count": 11,
     "metadata": {},
     "output_type": "execute_result"
    }
   ],
   "source": [
    "mayor = max(notas)\n",
    "menor = min(notas)\n",
    "rango = mayor - menor\n",
    "rango"
   ]
  },
  {
   "cell_type": "code",
   "execution_count": 12,
   "id": "2439130c",
   "metadata": {},
   "outputs": [
    {
     "data": {
      "text/plain": [
       "15.5"
      ]
     },
     "execution_count": 12,
     "metadata": {},
     "output_type": "execute_result"
    }
   ],
   "source": [
    "rango_medio = (mayor + menor)/2\n",
    "rango_medio"
   ]
  },
  {
   "cell_type": "markdown",
   "id": "77090dba",
   "metadata": {},
   "source": [
    "### La varianza\n",
    "La varianza es una medida de dispersión que representa la variabilidad de una serie de datos respecto a su media. Formalmente se calcula como la suma de los residuos al cuadrado divididos entre el total de observaciones.\n",
    "También se puede calcular como la desviación típica al cuadrado. Dicho sea de paso, entendemos como residuo a la diferencia entre el valor de una variable en un momento y el valor medio de toda la variable.\n",
    "Ver todas las medidas de dispersión Antes de ver la fórmula de la varianza, debemos decir que la varianza en estadística es muy importante. Ya que aunque se trata de una medida sencilla, puede aportar mucha información sobre una variable en concreto.\n",
    "\n",
    "![varianza](imgs/formula-varianza.jpeg)\n"
   ]
  },
  {
   "cell_type": "code",
   "execution_count": 13,
   "id": "e0e92b7c",
   "metadata": {},
   "outputs": [
    {
     "data": {
      "text/plain": [
       "5.410526315789472"
      ]
     },
     "execution_count": 13,
     "metadata": {},
     "output_type": "execute_result"
    }
   ],
   "source": [
    "import math\n",
    "suma = 0\n",
    "for x in notas:\n",
    "    resto = (x - media)\n",
    "    suma = suma + math.pow(resto, 2)\n",
    "varianza = suma/(len(notas) - 1)\n",
    "varianza"
   ]
  },
  {
   "cell_type": "markdown",
   "id": "d808d42f",
   "metadata": {},
   "source": [
    "### Desviación Estándar\n",
    "La desviación estándar hace referencia a una medida que se utiliza para cuantificar la variación o la dispersión de datos numéricos en una variable aleatoria, población estadística, conjunto de datos o distribución de una probabilidad."
   ]
  },
  {
   "cell_type": "markdown",
   "id": "46805831",
   "metadata": {},
   "source": [
    "![varianza](imgs/formula-desviacion-estandar.jpeg)"
   ]
  },
  {
   "cell_type": "markdown",
   "id": "849cd662",
   "metadata": {},
   "source": [
    "Donde: \n",
    "- X: es un valor de la lista\n",
    "- x̄: Es la media aritmetica\n",
    "- n: es la cantidad de elementos"
   ]
  },
  {
   "cell_type": "code",
   "execution_count": 14,
   "id": "6febb730",
   "metadata": {},
   "outputs": [
    {
     "data": {
      "text/plain": [
       "2.3260538075868906"
      ]
     },
     "execution_count": 14,
     "metadata": {},
     "output_type": "execute_result"
    }
   ],
   "source": [
    "desv_std = math.sqrt(varianza)\n",
    "desv_std"
   ]
  },
  {
   "cell_type": "code",
   "execution_count": 15,
   "id": "ffbe9e85",
   "metadata": {},
   "outputs": [
    {
     "data": {
      "text/plain": [
       "2.3260538075868906"
      ]
     },
     "execution_count": 15,
     "metadata": {},
     "output_type": "execute_result"
    }
   ],
   "source": [
    "import math\n",
    "suma = 0\n",
    "for x in notas:\n",
    "    resto = (x - media)\n",
    "    suma = suma + math.pow(resto, 2)\n",
    "desv = math.sqrt(suma/(len(notas) - 1))\n",
    "desv"
   ]
  },
  {
   "cell_type": "markdown",
   "id": "e2ad69fc",
   "metadata": {},
   "source": [
    "### Rango intercuartil (RIC/IQR)\n",
    "Es la diferencia entre el tercer y el primer cuartil de una distribución. El rango y el rango intercuartil (RIQ) miden la \"dispersión\" de un conjunto de datos. Mirar la dispersión nos permite ver qué tanto varían los datos. El rango es una manera rápida de tener una idea de la dispersión. Lleva más tiempo encontrar el RIQ, pero a veces nos da información más útil sobre la dispersión"
   ]
  },
  {
   "cell_type": "markdown",
   "id": "d077d1d6",
   "metadata": {},
   "source": [
    "![varianza](imgs/rango-interquartil.jpeg)"
   ]
  },
  {
   "cell_type": "markdown",
   "id": "b03da849",
   "metadata": {},
   "source": [
    "![varianza](imgs/formula-iqr.jpeg)"
   ]
  },
  {
   "cell_type": "markdown",
   "id": "5e5f8b3e",
   "metadata": {},
   "source": [
    "### Pasos para calcular el IQR\n",
    "\n",
    "1- Ordenar la lista de datos de forma ascendente.\n",
    "\n",
    "2- Calcular el primer quartil (25%), Este dato se obtiene multiplicando la cantidad de datos por el primer cuartil (N * 25%). Ese dato se redondea al mayor entero y esa es la posición del primer cuartil (Q1).\n",
    "\n",
    "3- Calcular el primer quartil (75%), Este dato se obtiene multiplicando la cantidad de datos por el tercer cuartil (N * 75%). Ese dato se redondea al mayor entero y esa es la posición del tercer cuartil (Q3).\n",
    "\n",
    "4 Se procede a realizar el cálculo: IQR = Q3 - Q1 "
   ]
  },
  {
   "cell_type": "code",
   "execution_count": 16,
   "id": "a5bd2663",
   "metadata": {},
   "outputs": [
    {
     "data": {
      "text/plain": [
       "20"
      ]
     },
     "execution_count": 16,
     "metadata": {},
     "output_type": "execute_result"
    }
   ],
   "source": [
    "n = len(notas)\n",
    "n"
   ]
  },
  {
   "cell_type": "code",
   "execution_count": 17,
   "id": "50c85364",
   "metadata": {},
   "outputs": [
    {
     "data": {
      "text/plain": [
       "3"
      ]
     },
     "execution_count": 17,
     "metadata": {},
     "output_type": "execute_result"
    }
   ],
   "source": [
    "notas.sort()\n",
    "q1 = int(n*0.25) -1\n",
    "q3 = int(n*0.75) -1\n",
    "iqr = notas[q3] - notas[q1]\n",
    "iqr"
   ]
  },
  {
   "cell_type": "markdown",
   "id": "54ad220b",
   "metadata": {},
   "source": [
    "# Estadística Inferencial"
   ]
  },
  {
   "cell_type": "markdown",
   "id": "15149f98",
   "metadata": {},
   "source": [
    "Nos permite inferir las características de la población a partir de una muestra representativa, lo que hace que sea más fácil tomar decisiones basadas en datos y hacer predicciones. \n",
    "Ayuda a tomar decisiones informadas.\n",
    "Su objetivo es obtener conclusiones útiles para hacer deducciones sobre una totalidad, basándose en la información numérica de la muestra. \n",
    "Es un proceso que permite hacer generalizaciones precisas sobre una población a partir de una muestra"
   ]
  },
  {
   "cell_type": "markdown",
   "id": "e63523bf",
   "metadata": {},
   "source": [
    "### Prueba de hipótesis\n",
    "Es el procedimiento estadistico de comprobación de una afirmación y se realiza a través de las observaciones de una muestra aleatoria"
   ]
  },
  {
   "cell_type": "markdown",
   "id": "93907374",
   "metadata": {},
   "source": [
    "### Hipótesis\n",
    "Una hipotesis es una preposición (oración) que puede ser verdadera o falsa. Pero que se adopta provisionalmente hasta recavar la información necesaria que sugiera lo contrario. En estadistica, una hipostesis es cualquier afirmación o conjetura que se hace sobre una o más poblaciones\n",
    "\n",
    "P.E.  El promedio de nota de clase de MATE de un aula es 15, es decir, μ = 15"
   ]
  },
  {
   "cell_type": "markdown",
   "id": "ddb0e5c4",
   "metadata": {},
   "source": [
    "### Población\n",
    "Es el universo de elementos que se van a estudiar o analizar"
   ]
  },
  {
   "cell_type": "markdown",
   "id": "d9dfbfca",
   "metadata": {},
   "source": [
    "### Muestra\n",
    "Es un subconjunto de la población"
   ]
  },
  {
   "cell_type": "markdown",
   "id": "c28a6a2a",
   "metadata": {},
   "source": [
    "### Tipos de pruebas de hipótesis\n",
    "- ***Hipótesis para la media poblacional:*** Consiste en contrastar si un valor es igual o diferente a la media poblacional a un valor determinado por el investigador.(P.E), La nota media de la clase de matematicas es 14 \n",
    "- ***Hipótesis para una proporción:*** Consiste en contrastar si una determinada proporción del evento es igual o diferente a un valor determinado por el investiador.(P.E) Cuando nos permiten evaluar si la proporcion de hombres de la clase de matematicas es del 30% de toda la clase.\n",
    "- ***Hipótesis para diferencias de medias poblacionales:*** Cuando evaluamos las medias de dos poblaciones distintas son iguales o diferentes. (P.E) cuando nos piden evaluar si las medias de notas del curso de mate de 4to y 5to son iguales\n",
    "- ***Hipótesis para diferencias de proporciones:*** Cuando evaluamos si las proporciones de dos eventos diferentes son iguales o no. (P.E) Cuando nos piden evaluar si la proporcion de hombres de dos aulas diferentes son iguales."
   ]
  },
  {
   "cell_type": "markdown",
   "id": "b9d2d586",
   "metadata": {},
   "source": [
    "### Conceptos Generales\n",
    "\n",
    "- Hipótesis nula (H0): Hipótesis que se contrasta\n",
    "- Hipótesis alternativa (HA): Hipótesis que se acepta cuando se rechaza H0\n",
    "- Nivel de significancia: Probabilidad de rechazar H0 cuando es verdadera (error tipo I)"
   ]
  },
  {
   "cell_type": "markdown",
   "id": "92a6a78d",
   "metadata": {},
   "source": [
    "### Ejemplos\n",
    "\n",
    "1- Se desea contrastar con un nivel de significancia del 5% la hipótesis de que la talla media de los hombres de 18 años o más de un país es igual a 175 cm. Contraste dicha hipótesis frente a la hipótesis alternativa de que es distinta. \n",
    "\n",
    "### H0: μ = 175 \n",
    "### HA: μ ≠ 175"
   ]
  },
  {
   "cell_type": "markdown",
   "id": "9090ee57",
   "metadata": {},
   "source": [
    "2- Se desea contrastar con un nivel de significancia del 5% la hipótesis de que la talla media de los hombres de 18 años o más de un país es igual o mayor a 160 cm. Contraste dicha hipótesis frente a la hipótesis alternativa de que es menor. \n",
    "\n",
    "### H0: μ ≥ 160 \n",
    "### HA: μ < 160"
   ]
  },
  {
   "cell_type": "markdown",
   "id": "7e2099f3",
   "metadata": {},
   "source": [
    "3- Se desea contrastar con un nivel de significancia del 5% la hipótesis de que la talla media de los hombres de 18 años o más de un país es menor o igual a 160 cm. Contraste dicha hipótesis frente a la hipótesis alternativa de que es mayor.\n",
    "\n",
    "### H0: μ ≤ 160 \n",
    "### HA: μ > 160"
   ]
  },
  {
   "cell_type": "markdown",
   "id": "8466fd4d",
   "metadata": {},
   "source": [
    "4 - Se desea contrastar la  hipótesis de que el promedio de las notas del curso de matemáritas de 5to año es de 15.\n",
    "\n",
    "#### H0: μ = 15\n",
    "#### HA: μ ≠ 15"
   ]
  },
  {
   "cell_type": "code",
   "execution_count": 24,
   "id": "a0926a80",
   "metadata": {},
   "outputs": [
    {
     "data": {
      "text/plain": [
       "0     15\n",
       "1     16\n",
       "2     14\n",
       "3     20\n",
       "4     18\n",
       "5     17\n",
       "6     19\n",
       "7     16\n",
       "8     16\n",
       "9     17\n",
       "10    13\n",
       "11    11\n",
       "12    15\n",
       "13    20\n",
       "14    19\n",
       "15    16\n",
       "16    19\n",
       "17    16\n",
       "18    18\n",
       "19    17\n",
       "Name: NOTA, dtype: int64"
      ]
     },
     "execution_count": 24,
     "metadata": {},
     "output_type": "execute_result"
    }
   ],
   "source": [
    "notas_mate['NOTA']\n",
    " "
   ]
  },
  {
   "cell_type": "code",
   "execution_count": 25,
   "id": "b3094ce7",
   "metadata": {},
   "outputs": [
    {
     "data": {
      "text/plain": [
       "[14, 16, 19, 11, 17, 18, 15, 20, 13, 16]"
      ]
     },
     "execution_count": 25,
     "metadata": {},
     "output_type": "execute_result"
    }
   ],
   "source": [
    "muestra = [14, 16, 19, 11, 17, 18, 15, 20, 13,16]\n",
    "muestra"
   ]
  },
  {
   "cell_type": "code",
   "execution_count": 26,
   "id": "4b0cb25f",
   "metadata": {},
   "outputs": [
    {
     "data": {
      "text/plain": [
       "15.9"
      ]
     },
     "execution_count": 26,
     "metadata": {},
     "output_type": "execute_result"
    }
   ],
   "source": [
    "media_muestra = sum(muestra)/len(muestra)\n",
    "media_muestra"
   ]
  },
  {
   "cell_type": "markdown",
   "id": "7fd1ed2c",
   "metadata": {},
   "source": [
    "### Intervalos de confianza\n",
    "La estimación por intervalos de confianza consiste en determinar un posible rango de valores o intervalo [a, b] en el que, con una determinada probabilidad, sus límites contendrán el valor del parámetro poblacional que estamos buscando."
   ]
  },
  {
   "cell_type": "markdown",
   "id": "fbc8ff1c",
   "metadata": {},
   "source": [
    "#### Para que sirven?\n",
    "- Nos da una idea aproximada de cuál podría ser el verdadero valor del parámetro.\n",
    "- El intervalo de confianza se utiliza como un excelente parámetro para la credibilidad estadística."
   ]
  },
  {
   "cell_type": "markdown",
   "id": "a0bbcbc7",
   "metadata": {},
   "source": [
    "Como se calcula?\n",
    "\n",
    "![formula de intervalo de confianza](imgs/Intervalo-confianza.png \"formula de Intervalo de confianza\")\n",
    "\n",
    "nos aseguramos de que la verdadera media poblacional se encuentre en el intervalo al (1-α) % de confianza."
   ]
  },
  {
   "cell_type": "markdown",
   "id": "f4df091f",
   "metadata": {},
   "source": [
    "#### Ejemplo: \n",
    "Se ha obtenido una muestra de 25 alumnos de un aula de clase para estimar la calificación media de los exámenes de los alumnos. Se sabe por otros cursos que la desviación estándar de las calificaciones es de 5 puntos. Además, el promedio de la muestra es de 14. Nos piden calcular el intervalo de confianza al 90%.\n",
    "Donde: \n",
    "- n = 25 \n",
    "- x = 14 \n",
    "- σ =5\n",
    "- α = 0.1\n",
    "- Z (α/2) = 1.64"
   ]
  },
  {
   "cell_type": "code",
   "execution_count": 32,
   "id": "3a484e6d",
   "metadata": {},
   "outputs": [
    {
     "data": {
      "text/plain": [
       "(12.4, 15.6)"
      ]
     },
     "execution_count": 32,
     "metadata": {},
     "output_type": "execute_result"
    }
   ],
   "source": [
    "Resultado = (12.4, 15.6)\n",
    "Resultado"
   ]
  },
  {
   "cell_type": "markdown",
   "id": "ef2045be",
   "metadata": {},
   "source": [
    "### Distribución Binomial\n",
    "\n",
    "Un evento binomial se caracteriza por la posibilidad de ocurrencia de solo dos categorías. Estas categorías juntas representan todo el espacio muestral, y además son mutuamente excluyentes, es decir, la ocurrencia de una implica la no ocurrencia de la otra.\n",
    "\n",
    "En el análisis estadístico, el uso más común de la distribución binomial es para resolver problemas de situaciones de éxito y fracaso."
   ]
  },
  {
   "cell_type": "markdown",
   "id": "f8d13651",
   "metadata": {},
   "source": [
    "# $$P(k)=\\binom{n}{k} p^k q^{n-k}$$\n",
    "\n",
    "Donde:\n",
    "\n",
    "$p$ = probabilidad de éxito\n",
    "\n",
    "$q = (1 - p)$ = probabilidad de fracaso\n",
    "\n",
    "$n$ = número de eventos estudiados\n",
    "\n",
    "$k$ = número de eventos deseados que tengan éxito"
   ]
  },
  {
   "cell_type": "markdown",
   "id": "e1d6cbb9",
   "metadata": {},
   "source": [
    "### Combinaciones\n",
    "\n",
    "Es importante resaltar que la expresión entre paréntesis no es una expresión matricial, sino que es el resultado de una combinación sin repetición. Este se obtiene con la siguiente fórmula:\n",
    "\n",
    "# $$C_{k}^{n} = \\binom{n}{k} = \\frac{n!}{k!(n - k)!}$$\n",
    "\n",
    "Donde\n",
    "\n",
    "## $$n! = n\\times(n-1)\\times(n-2)\\times...\\times(2)\\times(1)$$\n",
    "## $$k! = k\\times(k-1)\\times(k-2)\\times...\\times(2)\\times(1)$$\n",
    "\n",
    "Por definición:\n",
    "\n",
    "## $$0! = 1$$"
   ]
  },
  {
   "cell_type": "code",
   "execution_count": 36,
   "id": "f9dc1be7",
   "metadata": {},
   "outputs": [],
   "source": [
    "def factorial(n):\n",
    "    f = 1\n",
    "    for i in range(1,n+1):\n",
    "        f = f*i\n",
    "    return f"
   ]
  },
  {
   "cell_type": "code",
   "execution_count": 37,
   "id": "49aefe0a",
   "metadata": {},
   "outputs": [
    {
     "data": {
      "text/plain": [
       "120"
      ]
     },
     "execution_count": 37,
     "metadata": {},
     "output_type": "execute_result"
    }
   ],
   "source": [
    "factorial(5)"
   ]
  },
  {
   "cell_type": "markdown",
   "id": "088854f4",
   "metadata": {},
   "source": [
    "### Ejemplo: La Tinka\n",
    "En un billete de lotería la Tinka tenemos un total de **45 números** a elegir donde la apuesta mínima es de **seis números**. Tú que tienes curiosidad decides calcular la probabilidad de ganar el poso millonario con solo **un juego**. Para ello necesitamos saber cuántas **combinaciones de seis números se pueden formar con los 45 números disponibles**.\n",
    "\n",
    "### $$C_{6}^{45} = \\binom{45}{6} = \\frac{45!}{6!(45 - 6)!}$$"
   ]
  },
  {
   "cell_type": "code",
   "execution_count": 39,
   "id": "c49c3018",
   "metadata": {},
   "outputs": [
    {
     "data": {
      "text/plain": [
       "8145060.0"
      ]
     },
     "execution_count": 39,
     "metadata": {},
     "output_type": "execute_result"
    }
   ],
   "source": [
    "C = factorial(45)/(factorial(6)*(factorial(45-6)))\n",
    "C"
   ]
  },
  {
   "cell_type": "code",
   "execution_count": 40,
   "id": "9d4f8c2e",
   "metadata": {},
   "outputs": [
    {
     "data": {
      "text/plain": [
       "8145060.0"
      ]
     },
     "execution_count": 40,
     "metadata": {},
     "output_type": "execute_result"
    }
   ],
   "source": [
    "from scipy.special import comb\n",
    "combinaciones = comb(45, 6)\n",
    "combinaciones"
   ]
  },
  {
   "cell_type": "code",
   "execution_count": 41,
   "id": "6a249939",
   "metadata": {},
   "outputs": [
    {
     "name": "stdout",
     "output_type": "stream",
     "text": [
      "0.000000122773804\n"
     ]
    }
   ],
   "source": [
    "probabilidad = 1 / combinaciones\n",
    "print('%0.15f' % probabilidad)"
   ]
  },
  {
   "cell_type": "markdown",
   "id": "6a638cb0",
   "metadata": {},
   "source": [
    "### Distribución Poisson\n",
    "\n",
    "Se utiliza para describir el número de ocurrencias en un tiempo o espacio específico. Los eventos se caracterizan por la posibilidad de contar los éxitos, pero la imposibilidad de contar los fracasos.\n",
    "\n",
    "Como ejemplos de procesos donde podemos aplicar la distribución de Poisson tenemos la determinación de la cantidad de clientes que ingresan a una tienda a una hora determinada, la cantidad de autos que llegan a un drive-thru de una cafetería a la hora del almuerzo, la determinación de el número de accidentes registrados en un tramo de carretera, etc."
   ]
  },
  {
   "cell_type": "markdown",
   "id": "31cbe7c2",
   "metadata": {},
   "source": [
    "# $$P(k) = \\frac{e^{-\\mu}(\\mu)^k}{k!}$$\n",
    "\n",
    "Donde:\n",
    "\n",
    "$e$ = constante cuyo valor aproximado es 2.718281828459045\n",
    "\n",
    "$\\mu$ = representa el número promedio de ocurrencias en un intervalo de tiempo o espacio determinado\n",
    "\n",
    "$k$ = número de éxitos en el rango deseado"
   ]
  },
  {
   "cell_type": "markdown",
   "id": "ae7ffc4e",
   "metadata": {},
   "source": [
    "### Ejemplo\n",
    "\n",
    "Un restaurante recibe una media de **20 pedidos por hora**. ¿Cuál es la probabilidad de que, en un momento determinado elegido al azar, el restaurante reciba **15 pedidos**?"
   ]
  },
  {
   "cell_type": "code",
   "execution_count": 45,
   "id": "646990c7",
   "metadata": {},
   "outputs": [],
   "source": [
    "# ¿Cuál es el promedio de visitas por hora ($\\mu$)?\n",
    "media = 20"
   ]
  },
  {
   "cell_type": "code",
   "execution_count": 46,
   "id": "f959d779",
   "metadata": {},
   "outputs": [],
   "source": [
    "# ¿Cuántas ocurrencias queremos obtener en el período ($k$)?\n",
    "k=15"
   ]
  },
  {
   "cell_type": "code",
   "execution_count": 47,
   "id": "a06aeda3",
   "metadata": {},
   "outputs": [],
   "source": [
    "e=2.718281828459045"
   ]
  },
  {
   "cell_type": "code",
   "execution_count": 48,
   "id": "d4eb4794",
   "metadata": {},
   "outputs": [
    {
     "data": {
      "text/plain": [
       "0.0516488535317584"
      ]
     },
     "execution_count": 48,
     "metadata": {},
     "output_type": "execute_result"
    }
   ],
   "source": [
    "prob = ((e**-media)*(media**k))/factorial(k)\n",
    "prob"
   ]
  },
  {
   "cell_type": "code",
   "execution_count": 49,
   "id": "8b5325bc",
   "metadata": {},
   "outputs": [
    {
     "name": "stdout",
     "output_type": "stream",
     "text": [
      "0.05164885\n"
     ]
    }
   ],
   "source": [
    "print('%0.8f' %prob)"
   ]
  },
  {
   "cell_type": "code",
   "execution_count": 51,
   "id": "fec2ab2c",
   "metadata": {},
   "outputs": [
    {
     "name": "stdout",
     "output_type": "stream",
     "text": [
      "0.05164885\n"
     ]
    }
   ],
   "source": [
    "from scipy.stats import poisson\n",
    "prob2 = poisson.pmf(k,media)\n",
    "print('%0.8f' %prob2)"
   ]
  },
  {
   "cell_type": "code",
   "execution_count": null,
   "id": "9468a3af",
   "metadata": {},
   "outputs": [],
   "source": []
  }
 ],
 "metadata": {
  "kernelspec": {
   "display_name": "Python 3 (ipykernel)",
   "language": "python",
   "name": "python3"
  },
  "language_info": {
   "codemirror_mode": {
    "name": "ipython",
    "version": 3
   },
   "file_extension": ".py",
   "mimetype": "text/x-python",
   "name": "python",
   "nbconvert_exporter": "python",
   "pygments_lexer": "ipython3",
   "version": "3.11.5"
  }
 },
 "nbformat": 4,
 "nbformat_minor": 5
}
