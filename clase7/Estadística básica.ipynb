{
 "cells": [
  {
   "cell_type": "markdown",
   "id": "1f17a2c9",
   "metadata": {},
   "source": [
    "# Estadística básica"
   ]
  },
  {
   "cell_type": "markdown",
   "id": "d6744a2b",
   "metadata": {},
   "source": [
    "## Introducción"
   ]
  },
  {
   "cell_type": "markdown",
   "id": "e5076d3f",
   "metadata": {},
   "source": [
    "<p>La estadística es una <strong>rama de las matemáticas</strong> que te permite <strong>recopilar, organizar y analizar datos</strong> según la necesidad que tengas.</p>\n",
    "<p>Es el arte de <strong>dar sentido a los datos</strong>, proporcionando la teoría y los métodos para extraer información de estos y poder resolver problemas del mundo real.</p>\n",
    "<p>Hay dos tipos de estadísticas: </p>\n",
    "\n",
    "- Estadística Descriptiva\n",
    "- Estadística Inferencial"
   ]
  },
  {
   "cell_type": "markdown",
   "id": "5e465141",
   "metadata": {},
   "source": [
    "## Estadística Descriptiva"
   ]
  },
  {
   "cell_type": "markdown",
   "id": "25b67899",
   "metadata": {},
   "source": [
    "El término estadística descriptiva se refiere al **análisis, el resumen y la presentación** de los resultados relacionados con un conjunto de datos derivados de una muestra o de toda la población.\n",
    "\n",
    "La estadística descriptiva comprende tres categorías principales: distribución de frecuencias, medidas de tendencia central y medidas de variabilidad.\n"
   ]
  },
  {
   "cell_type": "markdown",
   "id": "de30c96a",
   "metadata": {},
   "source": [
    "### Distribución de frecuencias"
   ]
  },
  {
   "cell_type": "markdown",
   "id": "0e75f546",
   "metadata": {},
   "source": [
    "Representa la frecuencia o el recuento de los diferentes valores en un conjunto de datos o muestras"
   ]
  },
  {
   "cell_type": "code",
   "execution_count": 7,
   "id": "e303b12e",
   "metadata": {},
   "outputs": [
    {
     "data": {
      "text/html": [
       "<div>\n",
       "<style scoped>\n",
       "    .dataframe tbody tr th:only-of-type {\n",
       "        vertical-align: middle;\n",
       "    }\n",
       "\n",
       "    .dataframe tbody tr th {\n",
       "        vertical-align: top;\n",
       "    }\n",
       "\n",
       "    .dataframe thead th {\n",
       "        text-align: right;\n",
       "    }\n",
       "</style>\n",
       "<table border=\"1\" class=\"dataframe\">\n",
       "  <thead>\n",
       "    <tr style=\"text-align: right;\">\n",
       "      <th></th>\n",
       "      <th>ALUMNO</th>\n",
       "      <th>NOTA</th>\n",
       "    </tr>\n",
       "  </thead>\n",
       "  <tbody>\n",
       "    <tr>\n",
       "      <th>0</th>\n",
       "      <td>A0001</td>\n",
       "      <td>15</td>\n",
       "    </tr>\n",
       "    <tr>\n",
       "      <th>1</th>\n",
       "      <td>A0002</td>\n",
       "      <td>16</td>\n",
       "    </tr>\n",
       "    <tr>\n",
       "      <th>2</th>\n",
       "      <td>A0003</td>\n",
       "      <td>14</td>\n",
       "    </tr>\n",
       "    <tr>\n",
       "      <th>3</th>\n",
       "      <td>A0004</td>\n",
       "      <td>20</td>\n",
       "    </tr>\n",
       "    <tr>\n",
       "      <th>4</th>\n",
       "      <td>A0005</td>\n",
       "      <td>18</td>\n",
       "    </tr>\n",
       "    <tr>\n",
       "      <th>5</th>\n",
       "      <td>A0006</td>\n",
       "      <td>17</td>\n",
       "    </tr>\n",
       "    <tr>\n",
       "      <th>6</th>\n",
       "      <td>A0007</td>\n",
       "      <td>19</td>\n",
       "    </tr>\n",
       "    <tr>\n",
       "      <th>7</th>\n",
       "      <td>A0008</td>\n",
       "      <td>16</td>\n",
       "    </tr>\n",
       "    <tr>\n",
       "      <th>8</th>\n",
       "      <td>A0009</td>\n",
       "      <td>16</td>\n",
       "    </tr>\n",
       "    <tr>\n",
       "      <th>9</th>\n",
       "      <td>A0010</td>\n",
       "      <td>17</td>\n",
       "    </tr>\n",
       "    <tr>\n",
       "      <th>10</th>\n",
       "      <td>A0011</td>\n",
       "      <td>13</td>\n",
       "    </tr>\n",
       "    <tr>\n",
       "      <th>11</th>\n",
       "      <td>A0012</td>\n",
       "      <td>11</td>\n",
       "    </tr>\n",
       "    <tr>\n",
       "      <th>12</th>\n",
       "      <td>A0013</td>\n",
       "      <td>15</td>\n",
       "    </tr>\n",
       "    <tr>\n",
       "      <th>13</th>\n",
       "      <td>A0014</td>\n",
       "      <td>20</td>\n",
       "    </tr>\n",
       "    <tr>\n",
       "      <th>14</th>\n",
       "      <td>A0015</td>\n",
       "      <td>19</td>\n",
       "    </tr>\n",
       "    <tr>\n",
       "      <th>15</th>\n",
       "      <td>A0016</td>\n",
       "      <td>16</td>\n",
       "    </tr>\n",
       "    <tr>\n",
       "      <th>16</th>\n",
       "      <td>A0017</td>\n",
       "      <td>19</td>\n",
       "    </tr>\n",
       "    <tr>\n",
       "      <th>17</th>\n",
       "      <td>A0018</td>\n",
       "      <td>16</td>\n",
       "    </tr>\n",
       "    <tr>\n",
       "      <th>18</th>\n",
       "      <td>A0019</td>\n",
       "      <td>18</td>\n",
       "    </tr>\n",
       "    <tr>\n",
       "      <th>19</th>\n",
       "      <td>A0020</td>\n",
       "      <td>17</td>\n",
       "    </tr>\n",
       "  </tbody>\n",
       "</table>\n",
       "</div>"
      ],
      "text/plain": [
       "   ALUMNO  NOTA\n",
       "0   A0001    15\n",
       "1   A0002    16\n",
       "2   A0003    14\n",
       "3   A0004    20\n",
       "4   A0005    18\n",
       "5   A0006    17\n",
       "6   A0007    19\n",
       "7   A0008    16\n",
       "8   A0009    16\n",
       "9   A0010    17\n",
       "10  A0011    13\n",
       "11  A0012    11\n",
       "12  A0013    15\n",
       "13  A0014    20\n",
       "14  A0015    19\n",
       "15  A0016    16\n",
       "16  A0017    19\n",
       "17  A0018    16\n",
       "18  A0019    18\n",
       "19  A0020    17"
      ]
     },
     "execution_count": 7,
     "metadata": {},
     "output_type": "execute_result"
    }
   ],
   "source": [
    "import pandas as pd\n",
    "notas_mate = pd.read_csv('MATEMATICAS.csv')\n",
    "notas_mate.head(20)"
   ]
  },
  {
   "cell_type": "code",
   "execution_count": 10,
   "id": "e02f7aa7",
   "metadata": {},
   "outputs": [
    {
     "data": {
      "text/plain": [
       "NOTA\n",
       "16    5\n",
       "17    3\n",
       "19    3\n",
       "15    2\n",
       "20    2\n",
       "18    2\n",
       "14    1\n",
       "13    1\n",
       "11    1\n",
       "Name: count, dtype: int64"
      ]
     },
     "execution_count": 10,
     "metadata": {},
     "output_type": "execute_result"
    }
   ],
   "source": [
    "notas_mate['NOTA'].value_counts()"
   ]
  },
  {
   "cell_type": "code",
   "execution_count": 17,
   "id": "6471666b",
   "metadata": {},
   "outputs": [
    {
     "data": {
      "image/png": "[encoded data removed]",
      "text/plain": [
       "<Figure size 640x480 with 1 Axes>"
      ]
     },
     "metadata": {},
     "output_type": "display_data"
    }
   ],
   "source": [
    "import matplotlib.pyplot as plt\n",
    "notas = notas_mate['NOTA'].tolist()\n",
    "plt.hist(notas, edgecolor='black')\n",
    "plt.xlabel(\"Notas\")\n",
    "plt.ylabel(\"Frecuencia\")\n",
    "plt.title(\"Análisis de frecuencia o dispersión\")\n",
    "plt.show()\n"
   ]
  },
  {
   "cell_type": "markdown",
   "id": "b14e94ee",
   "metadata": {},
   "source": [
    " ### Medidas de tendencia central"
   ]
  },
  {
   "cell_type": "markdown",
   "id": "8bdfb540",
   "metadata": {},
   "source": [
    "Son medidas estadísticas que pretenden resumir en un solo valor a un conjunto de valores. Representan un centro en torno al cual se encuentra ubicado el conjunto de los datos (localización central)."
   ]
  },
  {
   "cell_type": "markdown",
   "id": "76ab7fd7",
   "metadata": {},
   "source": [
    "### La media o promedio"
   ]
  },
  {
   "cell_type": "markdown",
   "id": "2c5f76b6",
   "metadata": {},
   "source": [
    "La media aritmética es un concepto matemático usado en estadística. También llamada promedio o simplemente media, se obtiene con la suma de un conjunto de valores dividida entre el número total de sumandos\n",
    "\n",
    "![promedio](imgs/formuls-promedio-2.png)  "
   ]
  },
  {
   "cell_type": "code",
   "execution_count": 20,
   "id": "64d9edac",
   "metadata": {},
   "outputs": [
    {
     "data": {
      "text/plain": [
       "16.6"
      ]
     },
     "execution_count": 20,
     "metadata": {},
     "output_type": "execute_result"
    }
   ],
   "source": [
    "media = sum(notas)/len(notas)\n",
    "media"
   ]
  },
  {
   "cell_type": "code",
   "execution_count": 21,
   "id": "404eb591",
   "metadata": {},
   "outputs": [
    {
     "data": {
      "text/plain": [
       "16.6"
      ]
     },
     "execution_count": 21,
     "metadata": {},
     "output_type": "execute_result"
    }
   ],
   "source": [
    "notas_mate['NOTA'].mean()"
   ]
  },
  {
   "cell_type": "markdown",
   "id": "a12a8f71",
   "metadata": {},
   "source": [
    "### La mediana"
   ]
  },
  {
   "cell_type": "markdown",
   "id": "6fefc798",
   "metadata": {},
   "source": [
    "Es el número intermedio de un grupo de números; es decir, la mitad de los números son superiores a la mediana y la mitad de los números tienen valores menores que la mediana."
   ]
  },
  {
   "cell_type": "code",
   "execution_count": 25,
   "id": "d43c8146",
   "metadata": {},
   "outputs": [
    {
     "data": {
      "text/plain": [
       "16.5"
      ]
     },
     "execution_count": 25,
     "metadata": {},
     "output_type": "execute_result"
    }
   ],
   "source": [
    "notas.sort()\n",
    "notas\n",
    "mediana = (notas[9]+notas[10])/2\n",
    "mediana"
   ]
  },
  {
   "cell_type": "code",
   "execution_count": 31,
   "id": "66c1e855",
   "metadata": {},
   "outputs": [
    {
     "data": {
      "text/plain": [
       "16.5"
      ]
     },
     "execution_count": 31,
     "metadata": {},
     "output_type": "execute_result"
    }
   ],
   "source": [
    "notas_mate['NOTA'].median()"
   ]
  },
  {
   "cell_type": "markdown",
   "id": "b707ac71",
   "metadata": {},
   "source": [
    "### La moda"
   ]
  },
  {
   "cell_type": "markdown",
   "id": "6d66bea8",
   "metadata": {},
   "source": [
    "la moda es el valor que aparece con mayor frecuencia en un conjunto de datos."
   ]
  },
  {
   "cell_type": "code",
   "execution_count": 32,
   "id": "5ce579af",
   "metadata": {},
   "outputs": [
    {
     "data": {
      "text/plain": [
       "NOTA\n",
       "16    5\n",
       "17    3\n",
       "19    3\n",
       "15    2\n",
       "20    2\n",
       "18    2\n",
       "14    1\n",
       "13    1\n",
       "11    1\n",
       "Name: count, dtype: int64"
      ]
     },
     "execution_count": 32,
     "metadata": {},
     "output_type": "execute_result"
    }
   ],
   "source": [
    "notas_mate['NOTA'].value_counts()"
   ]
  },
  {
   "cell_type": "code",
   "execution_count": 29,
   "id": "46f68370",
   "metadata": {},
   "outputs": [
    {
     "data": {
      "text/plain": [
       "0    16\n",
       "Name: NOTA, dtype: int64"
      ]
     },
     "execution_count": 29,
     "metadata": {},
     "output_type": "execute_result"
    }
   ],
   "source": [
    "notas_mate['NOTA'].mode()\n"
   ]
  },
  {
   "cell_type": "code",
   "execution_count": 30,
   "id": "40e2bf7a",
   "metadata": {},
   "outputs": [
    {
     "data": {
      "text/plain": [
       "count    20.000000\n",
       "mean     16.600000\n",
       "std       2.326054\n",
       "min      11.000000\n",
       "25%      15.750000\n",
       "50%      16.500000\n",
       "75%      18.250000\n",
       "max      20.000000\n",
       "Name: NOTA, dtype: float64"
      ]
     },
     "execution_count": 30,
     "metadata": {},
     "output_type": "execute_result"
    }
   ],
   "source": [
    "notas_mate['NOTA'].describe()"
   ]
  },
  {
   "cell_type": "code",
   "execution_count": null,
   "id": "0d38e9f1",
   "metadata": {},
   "outputs": [],
   "source": []
  }
 ],
 "metadata": {
  "kernelspec": {
   "display_name": "Python 3 (ipykernel)",
   "language": "python",
   "name": "python3"
  },
  "language_info": {
   "codemirror_mode": {
    "name": "ipython",
    "version": 3
   },
   "file_extension": ".py",
   "mimetype": "text/x-python",
   "name": "python",
   "nbconvert_exporter": "python",
   "pygments_lexer": "ipython3",
   "version": "3.11.5"
  }
 },
 "nbformat": 4,
 "nbformat_minor": 5
}
